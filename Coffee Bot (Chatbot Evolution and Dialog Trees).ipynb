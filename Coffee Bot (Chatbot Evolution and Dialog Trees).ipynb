{
 "cells": [
  {
   "cell_type": "code",
   "execution_count": 1,
   "id": "dfc808c7",
   "metadata": {},
   "outputs": [],
   "source": [
    "#Create a Simple Coffee Bot that takes orders\n"
   ]
  },
  {
   "cell_type": "code",
   "execution_count": 2,
   "id": "c3f51157",
   "metadata": {},
   "outputs": [],
   "source": [
    "#Coffee Order Bot \n",
    "def coffee_bot():\n",
    "  print(\"Welcome to the cafe!\")\n",
    "  #get order\n",
    "  size = get_size()\n",
    "  drink_type = get_drink_type()\n",
    "  warmth = get_warmth()\n",
    "\n",
    "  #finalize order\n",
    "  print(\"Alright, that's a \" + str(warmth)+ \" \" + str(size) + \" \" + str(drink_type) + \"!\")\n",
    "  name = input(\"Can I get your name please? \\n> \")\n",
    "  print(\"Thanks, \" + str(name)+ \"! Your drink will be ready shortly.\")"
   ]
  },
  {
   "cell_type": "code",
   "execution_count": 3,
   "id": "5816c4ef",
   "metadata": {},
   "outputs": [],
   "source": [
    "#Define a function for users who don't select one of the options \n",
    "def print_message():\n",
    "  print(\"I'm sorry, I did not understand your selection. Please enter the corresponding letter for your response.\")"
   ]
  },
  {
   "cell_type": "code",
   "execution_count": 4,
   "id": "e887f2cd",
   "metadata": {},
   "outputs": [],
   "source": [
    "#GET SIZE \n",
    "def get_size():\n",
    "  res = input(\"What size drink can I get for you? \\n[a] Small \\n[b] Medium \\n[c] Large \\n> \")\n",
    "\n",
    "  if res == 'a':\n",
    "    return 'small' \n",
    "  elif res == 'b':\n",
    "    return 'medium'\n",
    "  elif res == 'c':\n",
    "    return 'large'\n",
    "  else:\n",
    "    print_message()\n",
    "    return get_size()"
   ]
  },
  {
   "cell_type": "code",
   "execution_count": 5,
   "id": "3a873d81",
   "metadata": {},
   "outputs": [],
   "source": [
    "#DRINK ORDER TYPE\n",
    "def get_drink_type():\n",
    "  res = input(\"What type of drink would you like? \\n[a] Brewed Coffee \\n[b] Mocha \\n[c] Latte \\n> \")\n",
    "\n",
    "  if res == 'a':\n",
    "    return 'brewed coffe'\n",
    "  elif res == 'b':\n",
    "    return 'mocha'\n",
    "  elif res == 'c':\n",
    "    return order_latte()\n",
    "  else:\n",
    "    print_message()\n",
    "    return get_drink_type()"
   ]
  },
  {
   "cell_type": "code",
   "execution_count": 6,
   "id": "0f3d3e28",
   "metadata": {},
   "outputs": [],
   "source": [
    "# LATTE TYPE\n",
    "def order_latte():\n",
    "  res = input(\"And what kind of milk for your latte? \\n[a] 2% milk \\n[b] Non-fat milk \\n[c] Soy milk \\n>\")\n",
    "\n",
    "  if res == 'a':\n",
    "    return 'latte'\n",
    "  if res == 'b':\n",
    "    return 'non-fat latte'\n",
    "  if res == 'c':\n",
    "    return 'soy latte'\n",
    "  else:\n",
    "    print_message()\n",
    "    return order_latte()"
   ]
  },
  {
   "cell_type": "code",
   "execution_count": 7,
   "id": "88732284",
   "metadata": {},
   "outputs": [],
   "source": [
    "#ICED OR HOT? \n",
    "def get_warmth():\n",
    "  res = input(\"Do you want your drink iced or hot? \\n[a] Iced \\n[b] Hot \\n> \")\n",
    "\n",
    "  if res == 'a':\n",
    "    return 'iced'\n",
    "  if res == 'b':\n",
    "    return 'hot'\n",
    "  else:\n",
    "    print_message()\n",
    "    return get_warmth()"
   ]
  },
  {
   "cell_type": "code",
   "execution_count": 8,
   "id": "766bde93",
   "metadata": {},
   "outputs": [
    {
     "name": "stdout",
     "output_type": "stream",
     "text": [
      "Welcome to the cafe!\n",
      "What size drink can I get for you? \n",
      "[a] Small \n",
      "[b] Medium \n",
      "[c] Large \n",
      "> a\n",
      "What type of drink would you like? \n",
      "[a] Brewed Coffee \n",
      "[b] Mocha \n",
      "[c] Latte \n",
      "> c\n",
      "And what kind of milk for your latte? \n",
      "[a] 2% milk \n",
      "[b] Non-fat milk \n",
      "[c] Soy milk \n",
      ">d\n",
      "I'm sorry, I did not understand your selection. Please enter the corresponding letter for your response.\n",
      "And what kind of milk for your latte? \n",
      "[a] 2% milk \n",
      "[b] Non-fat milk \n",
      "[c] Soy milk \n",
      ">b\n",
      "Do you want your drink iced or hot? \n",
      "[a] Iced \n",
      "[b] Hot \n",
      "> b\n",
      "Alright, that's a hot small non-fat latte!\n",
      "Can I get your name please? \n",
      "> ruffrufarr\n",
      "Thanks, ruffrufarr! Your drink will be ready shortly.\n"
     ]
    }
   ],
   "source": [
    "#RUN COFFEE BOT\n",
    "coffee_bot()"
   ]
  },
  {
   "cell_type": "code",
   "execution_count": null,
   "id": "010dcb92",
   "metadata": {},
   "outputs": [],
   "source": []
  }
 ],
 "metadata": {
  "kernelspec": {
   "display_name": "Python 3 (ipykernel)",
   "language": "python",
   "name": "python3"
  },
  "language_info": {
   "codemirror_mode": {
    "name": "ipython",
    "version": 3
   },
   "file_extension": ".py",
   "mimetype": "text/x-python",
   "name": "python",
   "nbconvert_exporter": "python",
   "pygments_lexer": "ipython3",
   "version": "3.11.5"
  }
 },
 "nbformat": 4,
 "nbformat_minor": 5
}
